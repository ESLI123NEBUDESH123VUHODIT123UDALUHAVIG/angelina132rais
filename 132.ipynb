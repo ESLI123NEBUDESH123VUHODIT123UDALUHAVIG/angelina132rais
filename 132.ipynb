{
 "cells": [
  {
   "cell_type": "code",
   "execution_count": null,
   "id": "d67ec3c2",
   "metadata": {},
   "outputs": [],
   "source": [
    "a=2\n",
    "print (a)"
   ]
  },
  {
   "cell_type": "code",
   "execution_count": null,
   "id": "c796ddba",
   "metadata": {},
   "outputs": [],
   "source": [
    "p=int(input(\"p=\"))\n",
    "Np=int(input(f\"N{p}=\"))\n",
    "k=int (1)\n",
    "N10=N10+(N%10)*k\n",
    "K=k*p\n",
    "Np=Np//10\n",
    "print(f\"N10={N10}\")\n"
   ]
  },
  {
   "cell_type": "code",
   "execution_count": null,
   "id": "69cdd74b",
   "metadata": {},
   "outputs": [],
   "source": []
  }
 ],
 "metadata": {
  "kernelspec": {
   "display_name": "Python 3 (ipykernel)",
   "language": "python",
   "name": "python3"
  },
  "language_info": {
   "codemirror_mode": {
    "name": "ipython",
    "version": 3
   },
   "file_extension": ".py",
   "mimetype": "text/x-python",
   "name": "python",
   "nbconvert_exporter": "python",
   "pygments_lexer": "ipython3",
   "version": "3.9.13"
  }
 },
 "nbformat": 4,
 "nbformat_minor": 5
}
